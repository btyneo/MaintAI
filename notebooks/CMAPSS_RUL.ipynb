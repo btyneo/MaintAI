{
 "cells": [
  {
   "cell_type": "code",
   "execution_count": 35,
   "id": "eb8824fb-345c-471f-829d-cd237d0782d5",
   "metadata": {},
   "outputs": [
    {
     "data": {
      "text/plain": [
       "unit_number\n",
       "69    362\n",
       "92    341\n",
       "96    336\n",
       "67    313\n",
       "83    293\n",
       "     ... \n",
       "58    147\n",
       "70    137\n",
       "57    137\n",
       "91    135\n",
       "39    128\n",
       "Name: count, Length: 100, dtype: int64"
      ]
     },
     "execution_count": 35,
     "metadata": {},
     "output_type": "execute_result"
    }
   ],
   "source": [
    "import pandas as pd \n",
    "import numpy \n",
    "\n",
    "pd.set_option(\"display.max.columns\", 100)\n",
    "pd.set_option(\"display.width\", 100)\n",
    "df = pd.read_csv(\"../data/CMAPSS/train_FD001.txt\", \n",
    "                 sep=r'\\s+', \n",
    "                 header=None)\n",
    "#add the columns\n",
    "col_names = (\n",
    "    [\"unit_number\", \"time_in_cycles\",\n",
    "     \"operational_setting_1\", \"operational_setting_2\", \"operational_setting_3\"]\n",
    "    + [f\"sensor_measurement_{i}\" for i in range(1, 22)])\n",
    "df.columns = col_names\n",
    "\n",
    "df.unit_number.value_counts()\n",
    "# print(df.head())\n",
    "# print(df.shape)\n",
    "# print(df.info())"
   ]
  },
  {
   "cell_type": "code",
   "execution_count": null,
   "id": "368694d9-5ece-423f-9f20-0a58461b2a9b",
   "metadata": {},
   "outputs": [],
   "source": []
  },
  {
   "cell_type": "code",
   "execution_count": null,
   "id": "03f2b6e0-a8b1-4431-add7-065f8d7f2cb0",
   "metadata": {},
   "outputs": [],
   "source": []
  }
 ],
 "metadata": {
  "kernelspec": {
   "display_name": "Python 3 (ipykernel)",
   "language": "python",
   "name": "python3"
  },
  "language_info": {
   "codemirror_mode": {
    "name": "ipython",
    "version": 3
   },
   "file_extension": ".py",
   "mimetype": "text/x-python",
   "name": "python",
   "nbconvert_exporter": "python",
   "pygments_lexer": "ipython3",
   "version": "3.12.5"
  }
 },
 "nbformat": 4,
 "nbformat_minor": 5
}
