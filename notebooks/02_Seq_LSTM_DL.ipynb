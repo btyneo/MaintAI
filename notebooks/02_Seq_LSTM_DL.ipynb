{
 "cells": [
  {
   "cell_type": "code",
   "execution_count": null,
   "id": "81c655b9-f233-43b9-86fd-6b01bbfae6b0",
   "metadata": {},
   "outputs": [],
   "source": [
    "#this is the continuation of the predictive maintaince model. this is based on deep learning (LSTM/GRU)\n",
    "#this is just the initialization. additional work required.\n",
    "\"\"\"\n",
    "Placeholder for future work: LSTM baseline model for RUL prediction.\n",
    "Next step: implement sequence-to-one regression using PyTorch.\n",
    "Goal: compare LSTM performance against feature-based RandomForest\n",
    "\"\"\"\n",
    "#------------------------------------LSTM//DEEP LEARNING-------------------------------------------------------------------------------------\n",
    "#we will be using windowing for LSTM as its based on RNN//sequential data\n",
    "\n",
    "\n",
    "#INITIALIZATION\n",
    "seed = 47 #seeding ensures reproducibility // consistency \n",
    "np.random.seed(seed)\n",
    "torch.manual_seed(seed)\n",
    "DEVICE = torch.device(\"cuda\" if torch.cuda.is_available() else \"cpu\")\n",
    "window = 30 #this is time steps per sequence; like 30 cycles per window. we can increase it to 50 later depending on result\n",
    "#window will also be how many past cycles each training sees (30 cycles in this case) \n",
    "batch_size = 256 #how many windows we give to the model before weights update// remember, too large can cause overfitting\n",
    "EPOCHS = 15 #currently dont have much time to run it for longer\n",
    "LR = 1e-3 #learning rate. default \n",
    "\n",
    "#step1: split engines and create a validation set; we will keep the 80/20 train/test split as before\n",
    "#we are also keeping the same features\n",
    "feature_cols = [\"operational_setting_1\", \"operational_setting_2\", \"operational_setting_3\"] + \\\n",
    "               [f\"sensor_measurement_{i}\" for i in range(1, 22)]\n",
    "target_col = \"RUL\" \n",
    "#make sure u scale only train data features to avoid leakage. DO NOT SCALE ON TEST DATA.\n",
    "train_data = df[df[\"unit_number\"].between(1,70).copy()\n",
    "\n",
    "\n",
    "\n",
    "\n",
    "\n",
    "#------------------------------------LSTM//DEEP LEARNING-------------------------------------------------------------------------------------\n"
   ]
  }
 ],
 "metadata": {
  "kernelspec": {
   "display_name": "Python 3 (ipykernel)",
   "language": "python",
   "name": "python3"
  },
  "language_info": {
   "codemirror_mode": {
    "name": "ipython",
    "version": 3
   },
   "file_extension": ".py",
   "mimetype": "text/x-python",
   "name": "python",
   "nbconvert_exporter": "python",
   "pygments_lexer": "ipython3",
   "version": "3.12.5"
  }
 },
 "nbformat": 4,
 "nbformat_minor": 5
}
